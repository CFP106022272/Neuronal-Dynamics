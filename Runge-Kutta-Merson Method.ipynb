{
 "cells": [
  {
   "cell_type": "code",
   "execution_count": 8,
   "metadata": {},
   "outputs": [
    {
     "name": "stdout",
     "output_type": "stream",
     "text": [
      "y(0.0)\t= 1.000000 \t error:    0\n",
      "y(1.0)\t= 1.562500 \t error: 1.45722e-07\n",
      "y(2.0)\t= 3.999999 \t error: 9.19479e-07\n",
      "y(3.0)\t= 10.562497 \t error: 2.90956e-06\n",
      "y(4.0)\t= 24.999994 \t error: 6.23491e-06\n",
      "y(5.0)\t= 52.562489 \t error: 1.08197e-05\n",
      "y(6.0)\t= 99.999983 \t error: 1.65946e-05\n",
      "y(7.0)\t= 175.562476 \t error: 2.35177e-05\n",
      "y(8.0)\t= 288.999968 \t error: 3.15652e-05\n",
      "y(9.0)\t= 451.562459 \t error: 4.07232e-05\n",
      "y(10.0)\t= 675.999949 \t error: 5.09833e-05\n"
     ]
    }
   ],
   "source": [
    "## 4th Order Runge-Kutta Method ##\n",
    "def RK4(f):\n",
    "    return lambda t, y, dt: (\n",
    "            lambda dy1: (\n",
    "            lambda dy2: (\n",
    "            lambda dy3: (\n",
    "            lambda dy4: (dy1 + 2*dy2 + 2*dy3 + dy4)/6\n",
    "            )( dt * f( t + dt  , y + dy3   ) )\n",
    "            )( dt * f( t + dt/2, y + dy2/2 ) )\n",
    "            )( dt * f( t + dt/2, y + dy1/2 ) )\n",
    "            )( dt * f( t       , y         ) )\n",
    " \n",
    "def theory(t): return (t**2 + 4)**2 /16\n",
    " \n",
    "from math import sqrt\n",
    "dy = RK4(lambda t, y: t*sqrt(y))\n",
    " \n",
    "t, y, dt = 0., 1., .1\n",
    "while t <= 10:\n",
    "    if abs(round(t) - t) < 1e-5:\n",
    "        print(\"y(%2.1f)\\t= %4.6f \\t error: %4.6g\" % ( t, y, abs(y - theory(t))))\n",
    "    t, y = t + dt, y + dy( t, y, dt )"
   ]
  },
  {
   "cell_type": "code",
   "execution_count": 95,
   "metadata": {
    "scrolled": false
   },
   "outputs": [
    {
     "name": "stdout",
     "output_type": "stream",
     "text": [
      "y(0.0)\t= 1.000000 \t error:    0\n",
      "y(1.0)\t= 1.562500 \t error: 6.96001e-08\n",
      "y(2.0)\t= 4.000000 \t error: 2.66483e-07\n",
      "y(3.0)\t= 10.562499 \t error: 5.94533e-07\n",
      "y(4.0)\t= 24.999999 \t error: 1.05514e-06\n",
      "y(5.0)\t= 52.562498 \t error: 1.64805e-06\n",
      "y(6.0)\t= 99.999998 \t error: 2.37298e-06\n",
      "y(7.0)\t= 175.562497 \t error: 3.2298e-06\n",
      "y(8.0)\t= 288.999996 \t error: 4.21843e-06\n",
      "y(9.0)\t= 451.562495 \t error: 5.33887e-06\n",
      "y(10.0)\t= 675.999993 \t error: 6.59109e-06\n"
     ]
    }
   ],
   "source": [
    "## Runge-Kutta-Merson Method ##\n",
    "def RKM5(f):\n",
    "    return lambda t, y, dt: (\n",
    "            lambda dy1: (\n",
    "            lambda dy2: (\n",
    "            lambda dy3: (\n",
    "            lambda dy4: (\n",
    "            lambda dy5: (dy1 + 4*dy4 + dy5)/6\n",
    "            )( dt * f( t + dt, y + (dy1-3*dy3+4*dy4)/2 ) )\n",
    "            )( dt * f( t + dt/2, y + (dy1+3*dy3)/8 ) )\n",
    "            )( dt * f( t + dt/3, y + (dy1+dy2)/6 ) )\n",
    "            )( dt * f( t + dt/3, y + dy1/3 ) )\n",
    "            )( dt * f( t       , y         ) )\n",
    " \n",
    "def theory(t): return (t**2 + 4)**2/16\n",
    " \n",
    "from math import sqrt\n",
    "dy = RKM5(lambda t, y: t*sqrt(y)) # ODE function y'(t)\n",
    " \n",
    "t, y, dt = 0., 1., .1 # input initial conditions\n",
    "while t <= 10:\n",
    "    if abs(round(t) - t) < 1e-5:\n",
    "        print(\"y(%2.1f)\\t= %4.6f \\t error: %4.6g\" % ( t, y, abs(y - theory(t))))\n",
    "    t, y = t + dt, y + dy( t, y, dt )\n"
   ]
  },
  {
   "cell_type": "code",
   "execution_count": 121,
   "metadata": {},
   "outputs": [
    {
     "data": {
      "image/png": "[encoded data removed]",
      "text/plain": [
       "<Figure size 432x288 with 1 Axes>"
      ]
     },
     "metadata": {
      "needs_background": "light"
     },
     "output_type": "display_data"
    }
   ],
   "source": [
    "## Plotting ##\n",
    "import matplotlib.pyplot as plt\n",
    "\n",
    "def RKM5(func, tspan, steps, y0):\n",
    "    dy = [0] * (steps + 1)\n",
    "    t  = [0] * (steps + 1)\n",
    "    dy[0] = y  = y0\n",
    "    t[0]  = ti = tspan[0] \n",
    "    h = (tspan[1] - tspan[0]) / float(steps)\n",
    "\n",
    "    for i in range(1, steps + 1):\n",
    "            k1 = func(ti    , y                 )*h\n",
    "            k2 = func(ti+h/3, y+k1/3            )*h\n",
    "            k3 = func(ti+h/3, y+(k1+k2)/6       )*h\n",
    "            k4 = func(ti+h/2, y+(k1+3*k3)/8     )*h\n",
    "            k5 = func(ti+h  , y+(k1-3*k3+4*k4)/2)*h\n",
    "            t[i]  = ti = tspan[0]+i*h\n",
    "            dy[i] = y  = y+(k1+4*k4+k5)/6\n",
    "    return(dy, t)\n",
    "\n",
    "## Usage Example ##\n",
    "function = lambda t, y: t*sqrt(y)  # ODE function y'(t)\n",
    "tspan = [0 , 10]\n",
    "steps = 100\n",
    "y0 = 1  # input initial conditions\n",
    "y, t = RKM5(function, tspan, steps, y0)\n",
    "\n",
    "plt.plot(t, y, '-')\n",
    "plt.legend(('Fifth order',))\n",
    "plt.grid('on')\n",
    "plt.show()"
   ]
  },
  {
   "cell_type": "code",
   "execution_count": null,
   "metadata": {},
   "outputs": [],
   "source": []
  }
 ],
 "metadata": {
  "kernelspec": {
   "display_name": "Python 3",
   "language": "python",
   "name": "python3"
  },
  "language_info": {
   "codemirror_mode": {
    "name": "ipython",
    "version": 3
   },
   "file_extension": ".py",
   "mimetype": "text/x-python",
   "name": "python",
   "nbconvert_exporter": "python",
   "pygments_lexer": "ipython3",
   "version": "3.7.1"
  }
 },
 "nbformat": 4,
 "nbformat_minor": 2
}
